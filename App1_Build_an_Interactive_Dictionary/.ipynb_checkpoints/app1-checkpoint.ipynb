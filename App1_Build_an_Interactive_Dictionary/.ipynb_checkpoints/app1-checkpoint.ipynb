{
 "cells": [
  {
   "cell_type": "code",
   "execution_count": 1,
   "metadata": {},
   "outputs": [],
   "source": [
    "import json\n",
    "from difflib import get_close_matches"
   ]
  },
  {
   "cell_type": "code",
   "execution_count": 2,
   "metadata": {},
   "outputs": [],
   "source": [
    "data = json.load(open(\"data.json\"))"
   ]
  },
  {
   "cell_type": "code",
   "execution_count": 3,
   "metadata": {},
   "outputs": [],
   "source": [
    "def translate(w):\n",
    "    w = w.lower()\n",
    "    if w in data:\n",
    "        return data[w]\n",
    "    elif w.upper() in data:\n",
    "        return data[w.upper()]\n",
    "    elif w.title() in data:\n",
    "        return data[w.title()]\n",
    "    elif len(get_close_matches(w, data.keys())) > 0:\n",
    "        yn = input(\"Did you mean %s instead? Enter Y if yes, or N if no: \" % get_close_matches(w, data.keys())[0])\n",
    "        if yn == \"Y\":\n",
    "            return data[get_close_matches(w, data.keys())[0]]\n",
    "        elif yn == \"N\":\n",
    "            return \"The word doesn't exist. Please double check it.\"\n",
    "        else:\n",
    "            return \"We didn't understand your entry.\"\n",
    "    else:\n",
    "        return \"The word doesn't exist. Please double check it.\""
   ]
  },
  {
   "cell_type": "code",
   "execution_count": 4,
   "metadata": {},
   "outputs": [
    {
     "name": "stdout",
     "output_type": "stream",
     "text": [
      "Enter word: apple\n",
      "A native Eurasian tree of the genus ''Malus''.\n",
      "The popular, crisp, round fruit of the apple tree, usually with red, yellow or green skin, light-coloured flesh and pips inside.\n",
      "The wood of the apple tree.\n"
     ]
    }
   ],
   "source": [
    "word = input(\"Enter word: \")\n",
    "output = translate(word)\n",
    "if type(output) == list:\n",
    "    for item in output:\n",
    "        print(item)\n",
    "else:\n",
    "    print(output)"
   ]
  },
  {
   "cell_type": "code",
   "execution_count": null,
   "metadata": {},
   "outputs": [],
   "source": []
  }
 ],
 "metadata": {
  "kernelspec": {
   "display_name": "Python 3",
   "language": "python",
   "name": "python3"
  },
  "language_info": {
   "codemirror_mode": {
    "name": "ipython",
    "version": 3
   },
   "file_extension": ".py",
   "mimetype": "text/x-python",
   "name": "python",
   "nbconvert_exporter": "python",
   "pygments_lexer": "ipython3",
   "version": "3.6.5"
  }
 },
 "nbformat": 4,
 "nbformat_minor": 2
}
