{
 "cells": [
  {
   "attachments": {},
   "cell_type": "markdown",
   "metadata": {},
   "source": [
    "## Welcome to the second application\n",
    "\n",
    "<img src=\"Snoopy.jpg\">\n",
    "\n",
    "I like learning Python!!"
   ]
  },
  {
   "cell_type": "code",
   "execution_count": 1,
   "metadata": {},
   "outputs": [],
   "source": [
    "## `folium` builds on the data wrangling strengths of the Python ecosystem \n",
    "## and the mapping strengths of the Leaflet.js library. Manipulate your data in Python, \n",
    "## then visualize it in a Leaflet map via `folium`.\n",
    "import folium\n",
    "## pandas is an open source, BSD-licensed library providing high-performance, \n",
    "## easy-to-use data structures and data analysis tools for the Python programming language.\n",
    "import pandas"
   ]
  },
  {
   "cell_type": "code",
   "execution_count": 2,
   "metadata": {},
   "outputs": [],
   "source": [
    "## Load data from json library\n",
    "data = pandas.read_csv(\"Volcanoes.txt\")\n",
    "lon = list(data[\"LON\"]) ## store the longitudes of the position of each volcano\n",
    "lat = list(data[\"LAT\"]) ## store the lattitudes of the position of each volcano\n",
    "elev = list(data[\"ELEV\"]) ## store the elevation of each volcano"
   ]
  },
  {
   "cell_type": "code",
   "execution_count": 3,
   "metadata": {},
   "outputs": [],
   "source": [
    "def color_producer(elevation):\n",
    "    if elevation < 1000:\n",
    "        return \"green\"\n",
    "    elif 1000<= elevation <3000:\n",
    "        return \"orange\"\n",
    "    else:\n",
    "         return \"red\""
   ]
  },
  {
   "cell_type": "code",
   "execution_count": 4,
   "metadata": {},
   "outputs": [],
   "source": [
    "## Create a map\n",
    "map = folium.Map\n",
    "## Set up the center of the map, and magnification\n",
    "map = folium.Map(location=[34.334274, 108.949706], zoom_start=6, tiles=\"Mapbox Bright\")\n",
    "\n",
    "## Set up a feature group called \"Volcanoes\", show the locations of volcanoes \n",
    "## and color the marker using the elevation of each volcanoe, also show this information when yoh click the marker\n",
    "fgv = folium.FeatureGroup(name=\"Volcanoes\")\n",
    "for lt, ln, elv in zip(lat, lon, elev):\n",
    "    fgv.add_child(folium.CircleMarker(location=[lt, ln], radius = 6, popup=str(elv)+\" m\", fill=True,\n",
    "    fill_color=color_producer(elv), color = 'grey', fill_opacity=0.7))\n",
    "    \n",
    "## Set up a feature group called \"Population\", and outline the border of each country \n",
    "## and color each country using this imformaion\n",
    "fgp = folium.FeatureGroup(name=\"Population\")\n",
    "fgp.add_child(folium.GeoJson(data=open(\"world.json\", \"r\", encoding=\"utf-8-sig\").read(),\n",
    "style_function=lambda x: {\"fillColor\":\"yellow\" if x[\"properties\"][\"POP2005\"] < 10000000\n",
    "else \"orange\" if 10000000 <= x[\"properties\"][\"POP2005\"] < 20000000 else \"red\"}))\n",
    "\n",
    "## Add features to the map\n",
    "map.add_child(fgv)\n",
    "map.add_child(fgp)\n",
    "map.add_child(folium.LayerControl())\n",
    "\n",
    "## Save the map\n",
    "map.save(\"Map2.html\")"
   ]
  },
  {
   "cell_type": "code",
   "execution_count": null,
   "metadata": {},
   "outputs": [],
   "source": []
  }
 ],
 "metadata": {
  "kernelspec": {
   "display_name": "Python 3",
   "language": "python",
   "name": "python3"
  },
  "language_info": {
   "codemirror_mode": {
    "name": "ipython",
    "version": 3
   },
   "file_extension": ".py",
   "mimetype": "text/x-python",
   "name": "python",
   "nbconvert_exporter": "python",
   "pygments_lexer": "ipython3",
   "version": "3.6.5"
  }
 },
 "nbformat": 4,
 "nbformat_minor": 2
}
